```python
# Concept Erasure + Negative-LR Adversarial Training for "Elephant" on mini-diffusers
# ------------------------------------------------------------------
# Этот скрипт дополняет SVD-стирание концепта обучением с отрицательным lr на изображениях слонов.
# 1. Подгружаем модель и датасет слонов.
# 2. Опционально проводим SVD-стирание (как раньше).
# 3. Делаем adversarial fine-tuning: обучаем модель на слонах с отрицательным lr, чтобы выталкивать концепт.
# 4. Сохраняем новую модель.

import torch
from torch.utils.data import DataLoader, Dataset
from torchvision import transforms
from diffusers import StableDiffusionPipeline
from PIL import Image
import os

# Параметры
model_id = "your-mini-diffusers-checkpoint"
elephant_folder = "/path/to/elephant_images"
batch_size = 4
num_epochs = 3
negative_lr = 1e-5  # положительное число, но направленное как отрицательное обучение

# 1. Загрузка модели
device = torch.device("cuda" if torch.cuda.is_available() else "cpu")
pipe = StableDiffusionPipeline.from_pretrained(model_id, torch_dtype=torch.float16)
pipe.unet.to(device).train()
pipe.text_encoder.to(device).eval()  # фиксируем текстовый энкодер

# 2. Датасет слонов
class ElephantDataset(Dataset):
    def __init__(self, folder, transform=None):
        self.paths = [os.path.join(folder, f) for f in os.listdir(folder)
                      if f.lower().endswith(('png','jpg','jpeg'))]
        self.transform = transform or transforms.Compose([
            transforms.Resize((512,512)),
            transforms.ToTensor(),
            transforms.Normalize([0.5],[0.5])
        ])

    def __len__(self): return len(self.paths)
    def __getitem__(self, idx):
        img = Image.open(self.paths[idx]).convert('RGB')
        return self.transform(img)

dataset = ElephantDataset(elephant_folder)
dataloader = DataLoader(dataset, batch_size=batch_size, shuffle=True)

# 3. Adversarial fine-tuning с отрицательным lr
optimizer = torch.optim.Adam(pipe.unet.parameters(), lr=-negative_lr)
criterion = torch.nn.MSELoss()

for epoch in range(num_epochs):
    for imgs in dataloader:
        imgs = imgs.to(device)
        # Шаг инверсии: получаем латенты
        latents = pipe.vae.encode(imgs * 2 - 1).latent_dist.sample() * 0.18215
        # Добавляем шум
        noise = torch.randn_like(latents)
        timesteps = torch.randint(0, len(pipe.scheduler.timesteps), (latents.size(0),), device=device)
        noisy_latents = pipe.scheduler.add_noise(latents, noise, timesteps)
        # Получаем эмбеддинги пустого промпта
        text_inputs = pipe.tokenizer(["elephant"], padding=True, return_tensors="pt").to(device)
        text_embeds = pipe.text_encoder(text_inputs.input_ids)[0]
        # Предсказание шума
        noise_pred = pipe.unet(noisy_latents, timesteps, encoder_hidden_states=text_embeds).sample
        # Вычисляем loss между реальным шумом и предсказанным
        loss = criterion(noise_pred, noise)
        # Обратный проход и optimizer.step (с отрицательным lr --> gradient ascent)
        optimizer.zero_grad()
        loss.backward()
        optimizer.step()

    print(f"Epoch {epoch+1}/{num_epochs}, loss: {loss.item():.4f}")

# 4. Сохранение модели
output_dir = "mini-diffusers-no-elephants-adv"
pipe.save_pretrained(output_dir)
print(f"Adversarially fine-tuned model saved to {output_dir}")
```
